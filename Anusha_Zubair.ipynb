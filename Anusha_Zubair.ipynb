{
  "nbformat": 4,
  "nbformat_minor": 0,
  "metadata": {
    "colab": {
      "provenance": []
    },
    "kernelspec": {
      "name": "python3",
      "display_name": "Python 3"
    },
    "language_info": {
      "name": "python"
    }
  },
  "cells": [
    {
      "cell_type": "code",
      "execution_count": 2,
      "metadata": {
        "colab": {
          "base_uri": "https://localhost:8080/"
        },
        "id": "q5IlN7F_tUTs",
        "outputId": "020e287b-e7e9-4c34-82c3-ebe19c0d823d"
      },
      "outputs": [
        {
          "output_type": "stream",
          "name": "stdout",
          "text": [
            "Can you describe the specific case study or transformation story you want to share? successful collaboration between Sodexo and CoachHub to accelerate leadership development across the APMEA region.\n",
            "What challenge or problem was addressed in this case? The challenge addressed in this case was the need for scalable leadership development programs that could effectively engage and develop employees across diverse geographic regions, particularly in the Asia Pacific, Middle East, and Africa (APMEA).\n",
            "What were the key results or outcomes achieved in this story? The key results achieved in this story include the implementation of scalable coaching programs powered by AI and analytics, which led to improved knowledge retention, enhanced leadership skills, and increased employee engagement across the APMEA region.\n",
            "Are there any data, quotes, or testimonials that illustrate the impact? 75% of classroom-style training is forgotten if it's not implemented within 6 days after.\n",
            "Is there a specific call-to-action? Join thousands of coachees like Sodexo's Head of FMCG Accounts, Jean Baptiste CALEMARD, on a journey of growth and transformation to explore the greater you.\n",
            "Are there any specific hashtags you’d like to include? #ExploreTheGreaterYou https://bit.ly/3LMxIHg\n",
            "Describe your desired tone and style. professional and make sure to write the achievements in the form of points.\n",
            "\n",
            "Extracted Information:\n",
            "Case Study: successful collaboration between Sodexo and CoachHub to accelerate leadership development across the APMEA region.\n",
            "Challenge Addressed: The challenge addressed in this case was the need for scalable leadership development programs that could effectively engage and develop employees across diverse geographic regions, particularly in the Asia Pacific, Middle East, and Africa (APMEA).\n",
            "Key Results: The key results achieved in this story include the implementation of scalable coaching programs powered by AI and analytics, which led to improved knowledge retention, enhanced leadership skills, and increased employee engagement across the APMEA region.\n",
            "Data or Quotes: 75% of classroom-style training is forgotten if it's not implemented within 6 days after.\n",
            "Call to Action: Join thousands of coachees like Sodexo's Head of FMCG Accounts, Jean Baptiste CALEMARD, on a journey of growth and transformation to explore the greater you.\n",
            "Hashtags: #ExploreTheGreaterYou https://bit.ly/3LMxIHg\n",
            "Desired Tone and Style: professional and make sure to write the achievements in the form of points.\n"
          ]
        }
      ],
      "source": [
        "# Define the questions\n",
        "questions = {\n",
        "    \"Q1\": \"Can you describe the specific case study or transformation story you want to share? \",\n",
        "    \"Q2\": \"What challenge or problem was addressed in this case? \",\n",
        "    \"Q3\": \"What were the key results or outcomes achieved in this story? \",\n",
        "    \"Q4\": \"Are there any data, quotes, or testimonials that illustrate the impact? \",\n",
        "    \"Q5\": \"Is there a specific call-to-action? \",\n",
        "    \"Q6\": \"Are there any specific hashtags you’d like to include? \",\n",
        "    \"Q7\": \"Describe your desired tone and style. \"\n",
        "}\n",
        "\n",
        "# Dictionary to store user's answers\n",
        "answers = {}\n",
        "\n",
        "# Ask questions and get user input\n",
        "for key, question in questions.items():\n",
        "    user_input = input(question)\n",
        "    answers[key] = user_input\n",
        "\n",
        "# Extract relevant information\n",
        "case_study = answers[\"Q1\"]\n",
        "challenge_addressed = answers[\"Q2\"]\n",
        "key_results = answers[\"Q3\"]\n",
        "data_or_quotes = answers[\"Q4\"]\n",
        "call_to_action = answers[\"Q5\"]\n",
        "hashtags = answers[\"Q6\"]\n",
        "desired_tone_style = answers[\"Q7\"]\n",
        "\n",
        "# Print the extracted information for verification\n",
        "print(\"\\nExtracted Information:\")\n",
        "print(\"Case Study:\", case_study)\n",
        "print(\"Challenge Addressed:\", challenge_addressed)\n",
        "print(\"Key Results:\", key_results)\n",
        "print(\"Data or Quotes:\", data_or_quotes)\n",
        "print(\"Call to Action:\", call_to_action)\n",
        "print(\"Hashtags:\", hashtags)\n",
        "print(\"Desired Tone and Style:\", desired_tone_style)\n"
      ]
    },
    {
      "cell_type": "code",
      "source": [
        "# Generate the prompt for LangChain based on user input\n",
        "prompt_template = (\n",
        "\n",
        "    \"Create a social media post that effectivelu communicates a transformatiev story.Use the following structure:\\n\\n\"\n",
        "    \"1.  Start with an engaging fact to grab attention. Example: 'Did you know? {data_or_quotes}'\\n\\n\"\n",
        "    \"2.  Elobrate on the case study {case_study} and briefly address the  {challenge_addressed}  Start of with an adjective .'\\n\\n\"\n",
        "    '''3.  Highlight the outcomes achieved with bullet points, ensuring each point begins with a different yet relevent  emoji for visual emphasis. {key_results}\n",
        "\n",
        "     Example\n",
        "    - 🚀 [Result1]\n",
        "    - 🌎 [Result2]\n",
        "    - 🌟 [Result3]\n",
        "    - 🧠 [Result4]\n",
        "    - ✅ [Result5]\n",
        "    '''\n",
        "\n",
        "    \"4. Conclude with a persuasive call to action that encourages engagement. Example: {call_to_action} .End with the specified hashtags and a link for more information. Example: {hashtags} '\\n\\n\"\n",
        "    \"5. Please maintain a {desired_tone_style} tone throughout the post\\n\"\n",
        "    \"6. Do not add useless emoji except as explained in point 3 and do not highlight anything except the text from point 1\"\n",
        "    \"7. Do not add extra description that is not given by the user and make the output brief\"\n",
        "\n",
        "    # f'''You are a social media expert and you have to design social media post for the user. Before making it you have to ask following questions from the user,\n",
        "    #   \"Q1\": \"Can you describe the specific case study or transformation story you want to share? \",\n",
        "    #   \"Q2\": \"What challenge or problem was addressed in this case? \",\n",
        "    #   \"Q3\": \"What were the key results or outcomes achieved in this story? \",\n",
        "    #   \"Q4\": \"Are there any data, quotes, or testimonials that illustrate the impact? \",\n",
        "    #   \"Q5\": \"Is there a specific call-to-action? \",\n",
        "    #   \"Q6\": \"Are there any specific hashtags you’d like to include? \",\n",
        "    #   \"Q7\": \"Describe your desired tone and style. \"\n",
        "\n",
        "    #   Following are the answers from the users to the questions above respectively:\n",
        "    #  {case_study}, {challenge_addressed}, {key_results}, {data_or_quotes} ,{call_to_action}, {hashtags} , {desired_tone_style}\n",
        "    #   The post design should be similar to this :\n",
        "    #   1.  Start with an engaging fact to grab attention. Example: 'Did you know?\n",
        "    #   2.  Elobrate on the case study  and briefly address the   Start of with an adjective .\n",
        "    #   3.  Highlight the outcomes achieved with bullet points, ensuring each point begins with a different yet relevent  emoji for visual emphasis.\n",
        "    #   4.  Conclude with a persuasive call to action that encourages engagement .End with the specified hashtags and a link for more information.\n",
        "    #   5.  Please maintain a tone throughout the post\n",
        "    #   Do not add any emoji except as explained in point 3 above and do not add titles and do not highlight  anything by bolding it\n",
        "    #   Suggested post :\n",
        "\n",
        "    # '''\n",
        "\n",
        ")\n",
        "\n",
        "# Prepare the prompt using the extracted information\n",
        "prompt = prompt_template.format(\n",
        "    data_or_quotes=answers[\"Q4\"],\n",
        "    challenge_addressed=answers[\"Q2\"],\n",
        "    case_study=answers[\"Q1\"],\n",
        "    key_results=answers[\"Q3\"],\n",
        "    call_to_action=answers[\"Q5\"],\n",
        "    hashtags=answers[\"Q6\"] + \"\\n\" ,\n",
        "    desired_tone_style=answers[\"Q7\"]\n",
        ")\n",
        "\n",
        "# Print the generated prompt for verification\n",
        "print(\"Generated Prompt for LangChain:\\n\")\n",
        "print(prompt)\n"
      ],
      "metadata": {
        "colab": {
          "base_uri": "https://localhost:8080/"
        },
        "id": "THYj6nnwH88i",
        "outputId": "ae0233ca-33f1-4ce8-d6dd-6aefdc0ef38c"
      },
      "execution_count": 62,
      "outputs": [
        {
          "output_type": "stream",
          "name": "stdout",
          "text": [
            "Generated Prompt for LangChain:\n",
            "\n",
            "Create a social media post that effectivelu communicates a transformatiev story.Use the following structure:\n",
            "\n",
            "1.  Start with an engaging fact to grab attention. Example: 'Did you know? 75% of classroom-style training is forgotten if it's not implemented within 6 days after.'\n",
            "\n",
            "2.  Elobrate on the case study successful collaboration between Sodexo and CoachHub to accelerate leadership development across the APMEA region. and briefly address the  The challenge addressed in this case was the need for scalable leadership development programs that could effectively engage and develop employees across diverse geographic regions, particularly in the Asia Pacific, Middle East, and Africa (APMEA).  Start of with an adjective .'\n",
            "\n",
            "3.  Highlight the outcomes achieved with bullet points, ensuring each point begins with a different yet relevent  emoji for visual emphasis. The key results achieved in this story include the implementation of scalable coaching programs powered by AI and analytics, which led to improved knowledge retention, enhanced leadership skills, and increased employee engagement across the APMEA region. \n",
            "    \n",
            "     Example\n",
            "    - 🚀 [Result1]\n",
            "    - 🌎 [Result2]\n",
            "    - 🌟 [Result3]\n",
            "    - 🧠 [Result4]\n",
            "    - ✅ [Result5]\n",
            "    4. Conclude with a persuasive call to action that encourages engagement. Example: Join thousands of coachees like Sodexo's Head of FMCG Accounts, Jean Baptiste CALEMARD, on a journey of growth and transformation to explore the greater you. .End with the specified hashtags and a link for more information. Example: #ExploreTheGreaterYou https://bit.ly/3LMxIHg\n",
            " '\n",
            "\n",
            "5. Please maintain a professional and make sure to write the achievements in the form of points. tone throughout the post\n",
            "6. Do not add useless emoji except as explained in point 3 and do not highlight anything except the text from point 17. Do not add extra description that is not given by the user and make the output brief\n"
          ]
        }
      ]
    },
    {
      "cell_type": "code",
      "source": [
        "!pip install langchain\n",
        "!pip install langchain-cli\n",
        "!pip install openai\n",
        "from langchain.llms import OpenAI\n",
        "import openai\n"
      ],
      "metadata": {
        "id": "A40HuTkSucfy"
      },
      "execution_count": null,
      "outputs": []
    },
    {
      "cell_type": "code",
      "source": [
        "# pip install openai --upgrade\n"
      ],
      "metadata": {
        "id": "JVokLl9fwF80"
      },
      "execution_count": 7,
      "outputs": []
    },
    {
      "cell_type": "code",
      "source": [
        "\n",
        "import openai\n",
        "\n",
        "from openai import OpenAI\n",
        "\n",
        "\n",
        "client = OpenAI(api_key=\"add you api key here \")\n",
        "\n",
        "response = client.chat.completions.create(\n",
        "  model=\"gpt-3.5-turbo\",\n",
        "  messages=[\n",
        "    {\n",
        "      \"role\": \"user\",\n",
        "      \"content\": prompt\n",
        "    }\n",
        "  ],\n",
        "  temperature=0.2,\n",
        "  max_tokens=220,\n",
        ")\n",
        "\n",
        "# Extract the generated text from the response\n",
        "\n",
        "print(response.choices[0].message.content)\n"
      ],
      "metadata": {
        "colab": {
          "base_uri": "https://localhost:8080/"
        },
        "id": "sx08F5GivCih",
        "outputId": "4f1a69ee-2a6a-4d59-b510-25f98b80a70a"
      },
      "execution_count": 65,
      "outputs": [
        {
          "output_type": "stream",
          "name": "stdout",
          "text": [
            "Did you know? 75% of classroom-style training is forgotten if it's not implemented within 6 days after.\n",
            "\n",
            "Exciting collaboration between Sodexo and CoachHub to accelerate leadership development across the APMEA region. The challenge addressed in this case was the need for scalable leadership development programs that could effectively engage and develop employees across diverse geographic regions, particularly in the Asia Pacific, Middle East, and Africa (APMEA).\n",
            "\n",
            "- 🚀 Implemented scalable coaching programs powered by AI and analytics\n",
            "- 🌎 Improved knowledge retention\n",
            "- 🌟 Enhanced leadership skills\n",
            "- 🧠 Increased employee engagement\n",
            "- ✅ Achieved significant results in leadership development\n",
            "\n",
            "Join thousands of coachees like Sodexo's Head of FMCG Accounts, Jean Baptiste CALEMARD, on a journey of growth and transformation to explore the greater you. #ExploreTheGreaterYou https://bit.ly/3LMxIHg\n"
          ]
        }
      ]
    },
    {
      "cell_type": "code",
      "source": [
        "# print(response.choices[0].message.content)"
      ],
      "metadata": {
        "id": "BWgHXyz7w4am"
      },
      "execution_count": 21,
      "outputs": []
    },
    {
      "cell_type": "code",
      "source": [],
      "metadata": {
        "id": "FdXfmZfM2K2x"
      },
      "execution_count": 26,
      "outputs": []
    },
    {
      "cell_type": "markdown",
      "source": [
        "## **TASK 2**"
      ],
      "metadata": {
        "id": "CcILzILndUEo"
      }
    },
    {
      "cell_type": "code",
      "source": [
        "# Input for Student 1\n",
        "name = input(\"Enter your name  \")\n",
        "field_of_study = input(\"Enter your field of study  \")\n",
        "year_of_study= input(\"Enter your year of study  \")\n",
        "subjects = input(\"Enter the list of subjects (comma-separated): \").split(',')\n",
        "preferred_learning_style= input(\"Enter your preferred learning style  (visual, auditory, kinesthetic): \")\n",
        "personal_objectives = input(\"Enter your personal objectives (such as preparing for a specific exam or overcoming a learning difficulty).  \")\n",
        "challenges = input(\"Enter the challenges faced by you \")\n",
        "extracurricular_activities = input(\"Enter your extracurricular activities  \")\n",
        "\n"
      ],
      "metadata": {
        "id": "KqyIzd1B3xsG"
      },
      "execution_count": null,
      "outputs": []
    },
    {
      "cell_type": "code",
      "source": [
        "\n",
        "# Example input for Student 1\n",
        "name = \"Alice\"\n",
        "field_of_study = \"Biology\"\n",
        "year_of_study = \"Second year\"\n",
        "subjects = [\"Genetics\", \"Microbiology\", \"Biochemistry\"]\n",
        "preferred_learning_style = \"visual\"\n",
        "personal_objectives = \"preparing for the MCAT\"\n",
        "challenges = \"time management\"\n",
        "extracurricular_activities = [\"debate club\", \"volunteer at local clinic\"]\n",
        "academic_performance = [\"B\", \"A-\", \"B+\"]\n",
        "\n",
        "\n",
        "# Function to generate study plan\n",
        "def generate_study_plan(name, field_of_study, year_of_study, subjects, preferred_learning_style, personal_objectives, challenges, extracurricular_activities , academic_performance):\n",
        "    # prompt = f\"\"\"\n",
        "    # Create a personalized study plan for {name}, a {year_of_study} student in {field_of_study}. {name}'s study plan should cater to the following details:\n",
        "\n",
        "    # Subjects: {subjects}\n",
        "    # Preferred Learning Style: {preferred_learning_style}\n",
        "    # Personal Objectives: {personal_objectives}\n",
        "    # Challenges: {challenges}\n",
        "    # Extracurricular Activities: {extracurricular_activities}\n",
        "\n",
        "    # The study plan should:\n",
        "    # 1. Outline a weekly study schedule, allocating time for each subject based on its importance and {name}'s performance levels. Prioritize subjects where improvement is needed the most.\n",
        "    # 2. Suggest study methods and resources that align with {name}'s preferred learning style. For example, recommend visual aids for a visual learner, podcasts or audiobooks for an auditory learner, and hands-on experiments or activities for a kinesthetic learner.\n",
        "    # 3. Include strategies for achieving {name}'s personal objectives, whether they involve preparing for a specific exam or overcoming a learning difficulty.\n",
        "    # 4. Provide tips on balancing academics with extracurricular activities, ensuring there's time for rest and hobbies.\n",
        "    # 5. Address {name}'s challenges with specific advice, tools, or techniques to overcome them.\n",
        "\n",
        "    # Ensure the plan is realistic, flexible, and supportive of {name}'s overall well-being and academic goals.\n",
        "    # \"\"\"\n",
        "\n",
        "    # prompt = f\"\"\"\n",
        "    # Create a comprehensive and personalized study plan for {name}, who is in their {year_of_study} of studying {field_of_study}. This study plan should be meticulously tailored to {name}'s specific academic and personal needs, taking into account the following:\n",
        "\n",
        "    # Subjects and Academic Performance: {', '.join([f'{subject} (current performance: {performance})' for subject, performance in zip(subjects, academic_performance)])}\n",
        "    # Preferred Learning Style: {preferred_learning_style}\n",
        "    # Personal Objectives: {personal_objectives}\n",
        "    # Challenges: {challenges}\n",
        "    # Extracurricular Activities: {', '.join(extracurricular_activities)}\n",
        "\n",
        "    # Given these details, the study plan must:\n",
        "\n",
        "    # 1. Assess {name}'s current academic performance in each subject, identifying areas that require more focus and suggesting targeted strategies for improvement.\n",
        "    # 2. Incorporate {name}'s preferred learning style into the study methods for each subject, offering specific tools and resources that align with visual, auditory, or kinesthetic learning preferences.\n",
        "    # 3. Develop a strategy that supports {name}'s personal objectives, such as preparing for a specific exam or overcoming a particular learning difficulty, with actionable steps and milestones.\n",
        "    # 4. Propose a balanced weekly schedule that dedicates appropriate time to study, extracurricular activities, and personal well-being, ensuring there is ample time for rest and hobbies.\n",
        "    # 5. Offer advice on managing {name}'s challenges, especially around time management, providing practical tips on organization, prioritization, and effective study techniques.\n",
        "    # 6. Suggest ways to integrate study sessions with {name}'s extracurricular activities where possible, enhancing learning through diverse experiences.\n",
        "\n",
        "    # This plan should be realistic, adaptable, and aimed at fostering a holistic approach to {name}'s education and personal development. It should encourage academic success while also supporting {name}'s well-being and engagement in extracurricular pursuits.\n",
        "    # \"\"\"\n",
        "\n",
        "\n",
        "    prompt = f\"\"\"\n",
        "    Create a comprehensive and personalized study plan for {name}, a {year_of_study} student specializing in {field_of_study}. This plan should meticulously integrate academic subjects, preferred learning styles, personal objectives, challenges, and extracurricular activities. The goal is to support {name}'s academic success, personal growth, and well-being.\n",
        "\n",
        "    Detailed Information:\n",
        "    - Academic Subjects: {', '.join(subjects)}\n",
        "    - Preferred Learning Style: {preferred_learning_style}\n",
        "    - Personal Objectives: {personal_objectives}\n",
        "    - Challenges: {challenges}\n",
        "    - Extracurricular Activities: {', '.join(extracurricular_activities)}\n",
        "\n",
        "    Requirements for the Study Plan:\n",
        "    1. Develop a detailed weekly timetable that allocates time for studying each subject, taking into consideration {name}'s preferred learning style and performance levels. Ensure a balanced distribution of subjects, with emphasis on those needing improvement.\n",
        "    2. Incorporate {name}'s extracurricular activities into the timetable, ensuring there is harmony between academic responsibilities and personal interests.\n",
        "    3. Propose strategies and resources tailored to {name}'s learning style for effective study sessions. Include recommendations for tools or apps that could assist in overcoming {name}'s challenges.\n",
        "    4. Offer advice on achieving {name}'s personal objectives while managing academic workload and extracurricular commitments. Suggest methods for time management and stress reduction.\n",
        "    5. Address the challenges faced by {name}, providing actionable solutions and adjustments to the study routine that can aid in overcoming these difficulties.\n",
        "\n",
        "    The timetable should:\n",
        "    - Clearly outline specific times for study sessions, breaks, extracurricular activities, and personal time.\n",
        "    - Include morning, afternoon, and evening activities, ensuring there is adequate time for rest and leisure to maintain a healthy work-life balance.\n",
        "    - Suggest time blocks for focused study periods, using techniques such as the Pomodoro method or similar, to enhance productivity and prevent burnout.\n",
        "\n",
        "    Aim for a plan that is realistic, adaptable to unexpected changes, and supportive of {name}'s academic goals, personal development, and overall health.\n",
        "    \"\"\"\n",
        "    return prompt\n",
        "\n",
        "client = OpenAI(api_key=\"add you api key here \")\n",
        "\n",
        "response = client.chat.completions.create(\n",
        "  model=\"gpt-3.5-turbo-0125\",\n",
        "  messages=[\n",
        "    {\n",
        "      \"role\": \"user\",\n",
        "      \"content\": generate_study_plan(name, field_of_study, year_of_study, subjects, preferred_learning_style, personal_objectives, challenges, extracurricular_activities, academic_performance)\n",
        "    }\n",
        "  ],\n",
        "  temperature=0.7,\n",
        "  max_tokens=1500,\n",
        "  top_p=1\n",
        ")\n",
        "\n",
        "# Extract the generated text from the response\n",
        "\n",
        "print(response.choices[0].message.content)\n",
        "\n",
        "\n"
      ],
      "metadata": {
        "colab": {
          "base_uri": "https://localhost:8080/"
        },
        "id": "6weR9coTejbd",
        "outputId": "46575079-a0d3-4976-98c6-038149eb3f30"
      },
      "execution_count": 67,
      "outputs": [
        {
          "output_type": "stream",
          "name": "stdout",
          "text": [
            "Alice's Personalized Study Plan:\n",
            "\n",
            "Weekly Timetable:\n",
            "Monday:\n",
            "- Morning: Genetics study session (visual aids, diagrams)\n",
            "- Afternoon: Microbiology study session (online tutorials)\n",
            "- Evening: Debate club meeting\n",
            "\n",
            "Tuesday:\n",
            "- Morning: Biochemistry study session (flashcards, visual mnemonics)\n",
            "- Afternoon: Volunteer at local clinic\n",
            "- Evening: Personal time\n",
            "\n",
            "Wednesday:\n",
            "- Morning: Genetics study session (practice problems)\n",
            "- Afternoon: Microbiology study session (group study session)\n",
            "- Evening: Debate club meeting\n",
            "\n",
            "Thursday:\n",
            "- Morning: Biochemistry study session (review notes)\n",
            "- Afternoon: Volunteer at local clinic\n",
            "- Evening: Personal time\n",
            "\n",
            "Friday:\n",
            "- Morning: Genetics study session (practice test)\n",
            "- Afternoon: Microbiology study session (review previous lectures)\n",
            "- Evening: Debate club meeting\n",
            "\n",
            "Saturday:\n",
            "- Morning: Biochemistry study session (concept mapping)\n",
            "- Afternoon: Volunteer at local clinic\n",
            "- Evening: Personal time\n",
            "\n",
            "Sunday:\n",
            "- Morning: MCAT preparation (practice questions)\n",
            "- Afternoon: MCAT preparation (mock exams)\n",
            "- Evening: Relaxation and self-care\n",
            "\n",
            "Strategies and Resources:\n",
            "- Utilize visual aids, diagrams, and mnemonics for better retention of information.\n",
            "- Use online tutorials and group study sessions for collaborative learning.\n",
            "- Consider using apps like Forest or Focus@Will to enhance focus during study sessions.\n",
            "- Implement the Pomodoro technique for focused study periods with regular breaks.\n",
            "\n",
            "Advice and Tips:\n",
            "- Prioritize tasks based on importance and deadlines to effectively manage time.\n",
            "- Set realistic goals and break them down into smaller, manageable tasks.\n",
            "- Practice stress-reduction techniques such as mindfulness or yoga to maintain well-being.\n",
            "- Stay organized by using a planner or digital calendar to track assignments and commitments.\n",
            "\n",
            "Challenges and Solutions:\n",
            "- To overcome time management challenges, break down study sessions into smaller intervals and allocate specific time blocks for each task.\n",
            "- Adjust the study routine as needed to accommodate extracurricular activities and personal commitments.\n",
            "- Seek support from peers, teachers, or academic advisors for guidance on balancing academic workload and personal goals.\n",
            "\n",
            "Overall, this personalized study plan aims to support Alice in achieving academic success, preparing for the MCAT, and maintaining a healthy work-life balance. By incorporating her preferred learning style, addressing challenges, and integrating extracurricular activities, Alice can effectively manage her time and progress towards her goals.\n"
          ]
        }
      ]
    },
    {
      "cell_type": "markdown",
      "source": [],
      "metadata": {
        "id": "T_fI7DyNeimL"
      }
    }
  ]
}